{
 "cells": [
  {
   "cell_type": "code",
   "execution_count": 1,
   "id": "8abe659c",
   "metadata": {},
   "outputs": [],
   "source": [
    "import os\n",
    "import pickle\n",
    "import pandas as pd  # For data manipulation and analysis\n",
    "import numpy as np  # For numerical computations\n",
    "from sklearn.model_selection import train_test_split  # For splitting the dataset\n",
    "from sklearn.preprocessing import StandardScaler, LabelEncoder  # For scaling and encoding"
   ]
  },
  {
   "cell_type": "code",
   "execution_count": 2,
   "id": "c2f3d564",
   "metadata": {},
   "outputs": [],
   "source": [
    "def dump_pickle(obj, filename: str):\n",
    "    \"\"\"Dump an object to a pickle file.\"\"\"\n",
    "    with open(filename, 'wb') as f_out:\n",
    "        return pickle.dump(obj, f_out)\n",
    "\n",
    "def read_dataframe(filename: str):\n",
    "    \"\"\"Read a DataFrame from a csv.\"\"\"\n",
    "    df = pd.read_csv(filename)\n",
    "    return df\n",
    "\n",
    "def preprocess(df: pd.DataFrame, ss: StandardScaler, le: LabelEncoder):\n",
    "    \"\"\"Preprocess the DataFrame.\"\"\"\n",
    "    # Drop rows with missing values\n",
    "    df.dropna(inplace=True)\n",
    "\n",
    "    # Drop unnecessary columns\n",
    "    df.drop(columns=['id'], inplace=True)\n",
    "\n",
    "    # Encoding categorical features\n",
    "    categorical_columns = ['gender', 'ever_married', 'work_type', 'Residence_type', 'smoking_status']\n",
    "    for col in categorical_columns:\n",
    "        df[col] = le.fit_transform(df[col])\n",
    "\n",
    "    # Scaling numerical features\n",
    "    numerical_columns = ['age', 'avg_glucose_level', 'bmi']\n",
    "    df[numerical_columns] = ss.fit_transform(df[numerical_columns])\n",
    "\n",
    "    return df, ss, le\n",
    "\n",
    "def run_data_prep(\n",
    "    input_file: str,\n",
    "    output_dir: str,\n",
    "    test_size: float = 0.2,\n",
    "    random_state: int = 42\n",
    "):\n",
    "    \"\"\"Main function to run data preparation.\"\"\"\n",
    "    # Read the dataset\n",
    "    df = read_dataframe(input_file)\n",
    "\n",
    "    # Initialize StandardScaler and LabelEncoder\n",
    "    ss = StandardScaler()\n",
    "    le = LabelEncoder()\n",
    "\n",
    "    # Preprocess the DataFrame\n",
    "    df, ss, le = preprocess(df, ss, le)\n",
    "\n",
    "    # Split the dataset into training and testing sets\n",
    "    X = df.drop(columns=['stroke'])\n",
    "    y = df['stroke']\n",
    "    X_train, X_test, y_train, y_test = train_test_split(X, y, test_size=test_size, random_state=random_state)\n",
    "\n",
    "    # Save the preprocessed data\n",
    "    dump_pickle((X_train, y_train), os.path.join(output_dir, 'train.pkl'))\n",
    "    dump_pickle((X_test, y_test), os.path.join(output_dir, 'test.pkl'))\n",
    "    dump_pickle(ss, os.path.join(output_dir, 'scaler.pkl'))\n",
    "    dump_pickle(le, os.path.join(output_dir, 'label_encoder.pkl'))\n",
    "\n",
    "run_data_prep(input_file='./data/healthcare-dataset-stroke-data.csv', output_dir='../models')"
   ]
  },
  {
   "cell_type": "markdown",
   "id": "6db97137",
   "metadata": {},
   "source": [
    "Train"
   ]
  },
  {
   "cell_type": "code",
   "execution_count": 3,
   "id": "c4c7e60d",
   "metadata": {},
   "outputs": [],
   "source": [
    "from sklearn.ensemble import RandomForestClassifier\n",
    "from sklearn.metrics import accuracy_score\n",
    "import mlflow\n",
    "import os\n",
    "import pickle"
   ]
  },
  {
   "cell_type": "code",
   "execution_count": 4,
   "id": "30ecb9a3",
   "metadata": {},
   "outputs": [
    {
     "name": "stderr",
     "output_type": "stream",
     "text": [
      "2025/05/06 12:34:51 WARNING mlflow.utils.autologging_utils: MLflow autologging encountered a warning: \"/home/vscode/.local/lib/python3.12/site-packages/mlflow/types/utils.py:452: UserWarning: Hint: Inferred schema contains integer column(s). Integer columns in Python cannot represent missing values. If your input data contains missing values at inference time, it will be encoded as floats and will cause a schema enforcement error. The best way to avoid this problem is to infer the model schema based on a realistic data sample (training dataset) that includes missing values. Alternatively, you can declare integer columns as doubles (float64) whenever these columns may have missing values. See `Handling Integers With Missing Values <https://www.mlflow.org/docs/latest/models.html#handling-integers-with-missing-values>`_ for more details.\"\n",
      "2025/05/06 12:34:53 WARNING mlflow.utils.autologging_utils: MLflow autologging encountered a warning: \"/home/vscode/.local/lib/python3.12/site-packages/mlflow/types/utils.py:452: UserWarning: Hint: Inferred schema contains integer column(s). Integer columns in Python cannot represent missing values. If your input data contains missing values at inference time, it will be encoded as floats and will cause a schema enforcement error. The best way to avoid this problem is to infer the model schema based on a realistic data sample (training dataset) that includes missing values. Alternatively, you can declare integer columns as doubles (float64) whenever these columns may have missing values. See `Handling Integers With Missing Values <https://www.mlflow.org/docs/latest/models.html#handling-integers-with-missing-values>`_ for more details.\"\n",
      "2025/05/06 12:34:57 WARNING mlflow.utils.autologging_utils: MLflow autologging encountered a warning: \"/home/vscode/.local/lib/python3.12/site-packages/mlflow/types/utils.py:452: UserWarning: Hint: Inferred schema contains integer column(s). Integer columns in Python cannot represent missing values. If your input data contains missing values at inference time, it will be encoded as floats and will cause a schema enforcement error. The best way to avoid this problem is to infer the model schema based on a realistic data sample (training dataset) that includes missing values. Alternatively, you can declare integer columns as doubles (float64) whenever these columns may have missing values. See `Handling Integers With Missing Values <https://www.mlflow.org/docs/latest/models.html#handling-integers-with-missing-values>`_ for more details.\"\n"
     ]
    },
    {
     "name": "stdout",
     "output_type": "stream",
     "text": [
      "🏃 View run funny-shrike-785 at: http://experiment-tracking:5000/#/experiments/3/runs/52659204dc6e4e81b85f5e8f57999874\n",
      "🧪 View experiment at: http://experiment-tracking:5000/#/experiments/3\n"
     ]
    }
   ],
   "source": [
    "mlflow.set_tracking_uri(\"http://experiment-tracking:5000\")\n",
    "mlflow.set_experiment(\"random-forest-train\")\n",
    "\n",
    "def load_pickle(filename: str):\n",
    "    \"\"\"Load an object from a pickle file.\"\"\"\n",
    "    with open(filename, 'rb') as f_in:\n",
    "        return pickle.load(f_in)\n",
    "\n",
    "def run_train(data_path: str):\n",
    "    \"\"\"Main function to run training.\"\"\"\n",
    "    mlflow.sklearn.autolog()\n",
    "    # Load the preprocessed data\n",
    "    X_train, y_train = load_pickle(os.path.join(data_path, 'train.pkl'))\n",
    "    X_test, y_test = load_pickle(os.path.join(data_path, 'test.pkl'))\n",
    "\n",
    "    with mlflow.start_run():\n",
    "        \n",
    "        # Initialize the Random Forest Classifier\n",
    "        rf_classifier = RandomForestClassifier(random_state=42)\n",
    "\n",
    "        # Train the model\n",
    "        rf_classifier.fit(X_train, y_train)\n",
    "\n",
    "        # Make predictions on the test set\n",
    "        y_pred = rf_classifier.predict(X_test)\n",
    "\n",
    "        # Evaluate the model\n",
    "        accuracy = accuracy_score(y_test, y_pred)\n",
    "        mlflow.log_metric(\"accuracy\", accuracy)\n",
    "\n",
    "run_train(data_path='../models')"
   ]
  },
  {
   "cell_type": "markdown",
   "id": "7ed61e00",
   "metadata": {},
   "source": [
    "HPO"
   ]
  },
  {
   "cell_type": "code",
   "execution_count": 5,
   "id": "fa0d1609",
   "metadata": {},
   "outputs": [
    {
     "name": "stderr",
     "output_type": "stream",
     "text": [
      "/home/vscode/.local/lib/python3.12/site-packages/tqdm/auto.py:21: TqdmWarning: IProgress not found. Please update jupyter and ipywidgets. See https://ipywidgets.readthedocs.io/en/stable/user_install.html\n",
      "  from .autonotebook import tqdm as notebook_tqdm\n"
     ]
    }
   ],
   "source": [
    "import os\n",
    "import pickle\n",
    "import mlflow\n",
    "import optuna\n",
    "\n",
    "from sklearn.ensemble import RandomForestClassifier\n",
    "from sklearn.metrics import accuracy_score"
   ]
  },
  {
   "cell_type": "code",
   "execution_count": 6,
   "id": "67dae110",
   "metadata": {},
   "outputs": [
    {
     "name": "stderr",
     "output_type": "stream",
     "text": [
      "[I 2025-05-06 12:34:57,895] A new study created in memory with name: no-name-210cfd78-625d-456a-a297-83aeff95ab17\n",
      "/tmp/ipykernel_13604/3852760289.py:22: FutureWarning: suggest_int() got {'step'} as positional arguments but they were expected to be given as keyword arguments.\n",
      "  'n_estimators': trial.suggest_int('n_estimators', 10, 50, 1),\n",
      "/tmp/ipykernel_13604/3852760289.py:23: FutureWarning: suggest_int() got {'step'} as positional arguments but they were expected to be given as keyword arguments.\n",
      "  'max_depth': trial.suggest_int('max_depth', 1, 20, 1),\n",
      "/tmp/ipykernel_13604/3852760289.py:24: FutureWarning: suggest_int() got {'step'} as positional arguments but they were expected to be given as keyword arguments.\n",
      "  'min_samples_split': trial.suggest_int('min_samples_split', 2, 10, 1),\n",
      "/tmp/ipykernel_13604/3852760289.py:25: FutureWarning: suggest_int() got {'step'} as positional arguments but they were expected to be given as keyword arguments.\n",
      "  'min_samples_leaf': trial.suggest_int('min_samples_leaf', 1, 4, 1),\n",
      "[I 2025-05-06 12:34:58,060] Trial 0 finished with value: 0.9460285132382892 and parameters: {'n_estimators': 21, 'max_depth': 1, 'min_samples_split': 4, 'min_samples_leaf': 3}. Best is trial 0 with value: 0.9460285132382892.\n",
      "/tmp/ipykernel_13604/3852760289.py:22: FutureWarning: suggest_int() got {'step'} as positional arguments but they were expected to be given as keyword arguments.\n",
      "  'n_estimators': trial.suggest_int('n_estimators', 10, 50, 1),\n",
      "/tmp/ipykernel_13604/3852760289.py:23: FutureWarning: suggest_int() got {'step'} as positional arguments but they were expected to be given as keyword arguments.\n",
      "  'max_depth': trial.suggest_int('max_depth', 1, 20, 1),\n",
      "/tmp/ipykernel_13604/3852760289.py:24: FutureWarning: suggest_int() got {'step'} as positional arguments but they were expected to be given as keyword arguments.\n",
      "  'min_samples_split': trial.suggest_int('min_samples_split', 2, 10, 1),\n",
      "/tmp/ipykernel_13604/3852760289.py:25: FutureWarning: suggest_int() got {'step'} as positional arguments but they were expected to be given as keyword arguments.\n",
      "  'min_samples_leaf': trial.suggest_int('min_samples_leaf', 1, 4, 1),\n",
      "[I 2025-05-06 12:34:58,227] Trial 1 finished with value: 0.9460285132382892 and parameters: {'n_estimators': 26, 'max_depth': 16, 'min_samples_split': 3, 'min_samples_leaf': 4}. Best is trial 0 with value: 0.9460285132382892.\n"
     ]
    },
    {
     "name": "stdout",
     "output_type": "stream",
     "text": [
      "🏃 View run silent-sow-259 at: http://experiment-tracking:5000/#/experiments/1/runs/b0d3ff9c3a9340daaf0619eb31e6d430\n",
      "🧪 View experiment at: http://experiment-tracking:5000/#/experiments/1\n",
      "🏃 View run awesome-ray-98 at: http://experiment-tracking:5000/#/experiments/1/runs/f9e164d0a1c043f69b592ec64f125768\n",
      "🧪 View experiment at: http://experiment-tracking:5000/#/experiments/1\n"
     ]
    },
    {
     "name": "stderr",
     "output_type": "stream",
     "text": [
      "/tmp/ipykernel_13604/3852760289.py:22: FutureWarning: suggest_int() got {'step'} as positional arguments but they were expected to be given as keyword arguments.\n",
      "  'n_estimators': trial.suggest_int('n_estimators', 10, 50, 1),\n",
      "/tmp/ipykernel_13604/3852760289.py:23: FutureWarning: suggest_int() got {'step'} as positional arguments but they were expected to be given as keyword arguments.\n",
      "  'max_depth': trial.suggest_int('max_depth', 1, 20, 1),\n",
      "/tmp/ipykernel_13604/3852760289.py:24: FutureWarning: suggest_int() got {'step'} as positional arguments but they were expected to be given as keyword arguments.\n",
      "  'min_samples_split': trial.suggest_int('min_samples_split', 2, 10, 1),\n",
      "/tmp/ipykernel_13604/3852760289.py:25: FutureWarning: suggest_int() got {'step'} as positional arguments but they were expected to be given as keyword arguments.\n",
      "  'min_samples_leaf': trial.suggest_int('min_samples_leaf', 1, 4, 1),\n",
      "[I 2025-05-06 12:34:58,440] Trial 2 finished with value: 0.9460285132382892 and parameters: {'n_estimators': 45, 'max_depth': 1, 'min_samples_split': 7, 'min_samples_leaf': 3}. Best is trial 0 with value: 0.9460285132382892.\n"
     ]
    },
    {
     "name": "stdout",
     "output_type": "stream",
     "text": [
      "🏃 View run unruly-dolphin-760 at: http://experiment-tracking:5000/#/experiments/1/runs/7b2208e68908403badcd810febd6f157\n",
      "🧪 View experiment at: http://experiment-tracking:5000/#/experiments/1\n"
     ]
    },
    {
     "name": "stderr",
     "output_type": "stream",
     "text": [
      "/tmp/ipykernel_13604/3852760289.py:22: FutureWarning: suggest_int() got {'step'} as positional arguments but they were expected to be given as keyword arguments.\n",
      "  'n_estimators': trial.suggest_int('n_estimators', 10, 50, 1),\n",
      "/tmp/ipykernel_13604/3852760289.py:23: FutureWarning: suggest_int() got {'step'} as positional arguments but they were expected to be given as keyword arguments.\n",
      "  'max_depth': trial.suggest_int('max_depth', 1, 20, 1),\n",
      "/tmp/ipykernel_13604/3852760289.py:24: FutureWarning: suggest_int() got {'step'} as positional arguments but they were expected to be given as keyword arguments.\n",
      "  'min_samples_split': trial.suggest_int('min_samples_split', 2, 10, 1),\n",
      "/tmp/ipykernel_13604/3852760289.py:25: FutureWarning: suggest_int() got {'step'} as positional arguments but they were expected to be given as keyword arguments.\n",
      "  'min_samples_leaf': trial.suggest_int('min_samples_leaf', 1, 4, 1),\n",
      "[I 2025-05-06 12:34:58,649] Trial 3 finished with value: 0.9460285132382892 and parameters: {'n_estimators': 38, 'max_depth': 5, 'min_samples_split': 4, 'min_samples_leaf': 3}. Best is trial 0 with value: 0.9460285132382892.\n",
      "/tmp/ipykernel_13604/3852760289.py:22: FutureWarning: suggest_int() got {'step'} as positional arguments but they were expected to be given as keyword arguments.\n",
      "  'n_estimators': trial.suggest_int('n_estimators', 10, 50, 1),\n",
      "/tmp/ipykernel_13604/3852760289.py:23: FutureWarning: suggest_int() got {'step'} as positional arguments but they were expected to be given as keyword arguments.\n",
      "  'max_depth': trial.suggest_int('max_depth', 1, 20, 1),\n",
      "/tmp/ipykernel_13604/3852760289.py:24: FutureWarning: suggest_int() got {'step'} as positional arguments but they were expected to be given as keyword arguments.\n",
      "  'min_samples_split': trial.suggest_int('min_samples_split', 2, 10, 1),\n",
      "/tmp/ipykernel_13604/3852760289.py:25: FutureWarning: suggest_int() got {'step'} as positional arguments but they were expected to be given as keyword arguments.\n",
      "  'min_samples_leaf': trial.suggest_int('min_samples_leaf', 1, 4, 1),\n",
      "[I 2025-05-06 12:34:58,765] Trial 4 finished with value: 0.9460285132382892 and parameters: {'n_estimators': 10, 'max_depth': 16, 'min_samples_split': 10, 'min_samples_leaf': 4}. Best is trial 0 with value: 0.9460285132382892.\n"
     ]
    },
    {
     "name": "stdout",
     "output_type": "stream",
     "text": [
      "🏃 View run gentle-stork-426 at: http://experiment-tracking:5000/#/experiments/1/runs/29cc5d5e1f0f426586c0c10a1cf53298\n",
      "🧪 View experiment at: http://experiment-tracking:5000/#/experiments/1\n",
      "🏃 View run spiffy-frog-634 at: http://experiment-tracking:5000/#/experiments/1/runs/c1c8985a32cf44fa9668a91a6611810d\n",
      "🧪 View experiment at: http://experiment-tracking:5000/#/experiments/1\n"
     ]
    },
    {
     "name": "stderr",
     "output_type": "stream",
     "text": [
      "/tmp/ipykernel_13604/3852760289.py:22: FutureWarning: suggest_int() got {'step'} as positional arguments but they were expected to be given as keyword arguments.\n",
      "  'n_estimators': trial.suggest_int('n_estimators', 10, 50, 1),\n",
      "/tmp/ipykernel_13604/3852760289.py:23: FutureWarning: suggest_int() got {'step'} as positional arguments but they were expected to be given as keyword arguments.\n",
      "  'max_depth': trial.suggest_int('max_depth', 1, 20, 1),\n",
      "/tmp/ipykernel_13604/3852760289.py:24: FutureWarning: suggest_int() got {'step'} as positional arguments but they were expected to be given as keyword arguments.\n",
      "  'min_samples_split': trial.suggest_int('min_samples_split', 2, 10, 1),\n",
      "/tmp/ipykernel_13604/3852760289.py:25: FutureWarning: suggest_int() got {'step'} as positional arguments but they were expected to be given as keyword arguments.\n",
      "  'min_samples_leaf': trial.suggest_int('min_samples_leaf', 1, 4, 1),\n",
      "[I 2025-05-06 12:34:58,947] Trial 5 finished with value: 0.9460285132382892 and parameters: {'n_estimators': 34, 'max_depth': 6, 'min_samples_split': 8, 'min_samples_leaf': 4}. Best is trial 0 with value: 0.9460285132382892.\n",
      "/tmp/ipykernel_13604/3852760289.py:22: FutureWarning: suggest_int() got {'step'} as positional arguments but they were expected to be given as keyword arguments.\n",
      "  'n_estimators': trial.suggest_int('n_estimators', 10, 50, 1),\n",
      "/tmp/ipykernel_13604/3852760289.py:23: FutureWarning: suggest_int() got {'step'} as positional arguments but they were expected to be given as keyword arguments.\n",
      "  'max_depth': trial.suggest_int('max_depth', 1, 20, 1),\n",
      "/tmp/ipykernel_13604/3852760289.py:24: FutureWarning: suggest_int() got {'step'} as positional arguments but they were expected to be given as keyword arguments.\n",
      "  'min_samples_split': trial.suggest_int('min_samples_split', 2, 10, 1),\n",
      "/tmp/ipykernel_13604/3852760289.py:25: FutureWarning: suggest_int() got {'step'} as positional arguments but they were expected to be given as keyword arguments.\n",
      "  'min_samples_leaf': trial.suggest_int('min_samples_leaf', 1, 4, 1),\n"
     ]
    },
    {
     "name": "stdout",
     "output_type": "stream",
     "text": [
      "🏃 View run omniscient-foal-888 at: http://experiment-tracking:5000/#/experiments/1/runs/da5aeeac151945cea680a3cc4e7b171f\n",
      "🧪 View experiment at: http://experiment-tracking:5000/#/experiments/1\n"
     ]
    },
    {
     "name": "stderr",
     "output_type": "stream",
     "text": [
      "[I 2025-05-06 12:34:59,166] Trial 6 finished with value: 0.9460285132382892 and parameters: {'n_estimators': 47, 'max_depth': 7, 'min_samples_split': 9, 'min_samples_leaf': 2}. Best is trial 0 with value: 0.9460285132382892.\n"
     ]
    },
    {
     "name": "stdout",
     "output_type": "stream",
     "text": [
      "🏃 View run illustrious-hawk-785 at: http://experiment-tracking:5000/#/experiments/1/runs/3e787f14cb7643d5a7e768daf935bb9b\n",
      "🧪 View experiment at: http://experiment-tracking:5000/#/experiments/1\n"
     ]
    },
    {
     "name": "stderr",
     "output_type": "stream",
     "text": [
      "/tmp/ipykernel_13604/3852760289.py:22: FutureWarning: suggest_int() got {'step'} as positional arguments but they were expected to be given as keyword arguments.\n",
      "  'n_estimators': trial.suggest_int('n_estimators', 10, 50, 1),\n",
      "/tmp/ipykernel_13604/3852760289.py:23: FutureWarning: suggest_int() got {'step'} as positional arguments but they were expected to be given as keyword arguments.\n",
      "  'max_depth': trial.suggest_int('max_depth', 1, 20, 1),\n",
      "/tmp/ipykernel_13604/3852760289.py:24: FutureWarning: suggest_int() got {'step'} as positional arguments but they were expected to be given as keyword arguments.\n",
      "  'min_samples_split': trial.suggest_int('min_samples_split', 2, 10, 1),\n",
      "/tmp/ipykernel_13604/3852760289.py:25: FutureWarning: suggest_int() got {'step'} as positional arguments but they were expected to be given as keyword arguments.\n",
      "  'min_samples_leaf': trial.suggest_int('min_samples_leaf', 1, 4, 1),\n",
      "[I 2025-05-06 12:34:59,378] Trial 7 finished with value: 0.9460285132382892 and parameters: {'n_estimators': 41, 'max_depth': 15, 'min_samples_split': 10, 'min_samples_leaf': 3}. Best is trial 0 with value: 0.9460285132382892.\n"
     ]
    },
    {
     "name": "stdout",
     "output_type": "stream",
     "text": [
      "🏃 View run handsome-eel-915 at: http://experiment-tracking:5000/#/experiments/1/runs/f0d43cb49d20486da532ece1bb917a61\n",
      "🧪 View experiment at: http://experiment-tracking:5000/#/experiments/1\n"
     ]
    },
    {
     "name": "stderr",
     "output_type": "stream",
     "text": [
      "/tmp/ipykernel_13604/3852760289.py:22: FutureWarning: suggest_int() got {'step'} as positional arguments but they were expected to be given as keyword arguments.\n",
      "  'n_estimators': trial.suggest_int('n_estimators', 10, 50, 1),\n",
      "/tmp/ipykernel_13604/3852760289.py:23: FutureWarning: suggest_int() got {'step'} as positional arguments but they were expected to be given as keyword arguments.\n",
      "  'max_depth': trial.suggest_int('max_depth', 1, 20, 1),\n",
      "/tmp/ipykernel_13604/3852760289.py:24: FutureWarning: suggest_int() got {'step'} as positional arguments but they were expected to be given as keyword arguments.\n",
      "  'min_samples_split': trial.suggest_int('min_samples_split', 2, 10, 1),\n",
      "/tmp/ipykernel_13604/3852760289.py:25: FutureWarning: suggest_int() got {'step'} as positional arguments but they were expected to be given as keyword arguments.\n",
      "  'min_samples_leaf': trial.suggest_int('min_samples_leaf', 1, 4, 1),\n",
      "[I 2025-05-06 12:34:59,580] Trial 8 finished with value: 0.9460285132382892 and parameters: {'n_estimators': 42, 'max_depth': 20, 'min_samples_split': 2, 'min_samples_leaf': 2}. Best is trial 0 with value: 0.9460285132382892.\n",
      "/tmp/ipykernel_13604/3852760289.py:22: FutureWarning: suggest_int() got {'step'} as positional arguments but they were expected to be given as keyword arguments.\n",
      "  'n_estimators': trial.suggest_int('n_estimators', 10, 50, 1),\n",
      "/tmp/ipykernel_13604/3852760289.py:23: FutureWarning: suggest_int() got {'step'} as positional arguments but they were expected to be given as keyword arguments.\n",
      "  'max_depth': trial.suggest_int('max_depth', 1, 20, 1),\n",
      "/tmp/ipykernel_13604/3852760289.py:24: FutureWarning: suggest_int() got {'step'} as positional arguments but they were expected to be given as keyword arguments.\n",
      "  'min_samples_split': trial.suggest_int('min_samples_split', 2, 10, 1),\n",
      "/tmp/ipykernel_13604/3852760289.py:25: FutureWarning: suggest_int() got {'step'} as positional arguments but they were expected to be given as keyword arguments.\n",
      "  'min_samples_leaf': trial.suggest_int('min_samples_leaf', 1, 4, 1),\n",
      "[I 2025-05-06 12:34:59,756] Trial 9 finished with value: 0.9460285132382892 and parameters: {'n_estimators': 31, 'max_depth': 1, 'min_samples_split': 7, 'min_samples_leaf': 4}. Best is trial 0 with value: 0.9460285132382892.\n"
     ]
    },
    {
     "name": "stdout",
     "output_type": "stream",
     "text": [
      "🏃 View run gentle-midge-993 at: http://experiment-tracking:5000/#/experiments/1/runs/a89a330dafbe4955872716d29ceef435\n",
      "🧪 View experiment at: http://experiment-tracking:5000/#/experiments/1\n",
      "🏃 View run suave-auk-404 at: http://experiment-tracking:5000/#/experiments/1/runs/ff11f60cf0b54260ad9fb37a3643bad2\n",
      "🧪 View experiment at: http://experiment-tracking:5000/#/experiments/1\n"
     ]
    }
   ],
   "source": [
    "mlflow.set_tracking_uri(\"http://experiment-tracking:5000\")\n",
    "mlflow.set_experiment(\"random-forest-hyperopt\")\n",
    "\n",
    "\n",
    "def load_pickle(filename: str):\n",
    "    \"\"\"Load an object from a pickle file.\"\"\"\n",
    "    with open(filename, 'rb') as f_in:\n",
    "        return pickle.load(f_in)\n",
    "\n",
    "def run_optimization(data_path: str, num_trials: int):\n",
    "    \"\"\"Main function to run hyperparameter optimization.\"\"\"\n",
    "    # Load the preprocessed data\n",
    "    X_train, y_train = load_pickle(os.path.join(data_path, 'train.pkl'))\n",
    "    X_test, y_test = load_pickle(os.path.join(data_path, 'test.pkl'))\n",
    "\n",
    "    # Disable autologging to avoid conflicts with Optuna\n",
    "    mlflow.sklearn.autolog(disable=True)\n",
    "\n",
    "    def objective(trial):\n",
    "        # Define the hyperparameters to tune\n",
    "        params = {\n",
    "                'n_estimators': trial.suggest_int('n_estimators', 10, 50, 1),\n",
    "                'max_depth': trial.suggest_int('max_depth', 1, 20, 1),\n",
    "                'min_samples_split': trial.suggest_int('min_samples_split', 2, 10, 1),\n",
    "                'min_samples_leaf': trial.suggest_int('min_samples_leaf', 1, 4, 1),\n",
    "                'random_state': 42,\n",
    "                'n_jobs': -1\n",
    "            }\n",
    "        \n",
    "        with mlflow.start_run():\n",
    "            mlflow.log_params(params)\n",
    "            # Create the model with the suggested hyperparameters\n",
    "            rf = RandomForestClassifier(**params)\n",
    "            rf.fit(X_train, y_train)\n",
    "            y_pred = rf.predict(X_test)\n",
    "\n",
    "            accuracy = accuracy_score(y_test, y_pred)\n",
    "            mlflow.log_metric(\"accuracy\", accuracy)\n",
    "        \n",
    "        return accuracy\n",
    "\n",
    "    # Create a study and optimize the objective function\n",
    "    study = optuna.create_study(direction='maximize')\n",
    "    study.optimize(objective, n_trials=num_trials)\n",
    "\n",
    "run_optimization(data_path='../models', num_trials=10)"
   ]
  },
  {
   "cell_type": "markdown",
   "id": "ad122f95",
   "metadata": {},
   "source": [
    "Register"
   ]
  },
  {
   "cell_type": "code",
   "execution_count": 7,
   "id": "d1b58a1e",
   "metadata": {},
   "outputs": [],
   "source": [
    "import pandas as pd\n",
    "\n",
    "from sklearn.feature_extraction import DictVectorizer\n",
    "from sklearn.ensemble import RandomForestRegressor\n",
    "from sklearn.metrics import root_mean_squared_error\n",
    "\n",
    "from sklearn.pipeline import make_pipeline\n",
    "\n",
    "import mlflow\n",
    "from mlflow.tracking import MlflowClient\n",
    "from mlflow.entities import ViewType"
   ]
  },
  {
   "cell_type": "code",
   "execution_count": 8,
   "id": "b587c5e4",
   "metadata": {},
   "outputs": [
    {
     "name": "stderr",
     "output_type": "stream",
     "text": [
      "\u001b[31m2025/05/06 12:35:03 WARNING mlflow.models.model: Model logged without a signature and input example. Please set `input_example` parameter when logging the model to auto infer the model signature.\u001b[0m\n"
     ]
    },
    {
     "name": "stdout",
     "output_type": "stream",
     "text": [
      "🏃 View run funny-stoat-849 at: http://experiment-tracking:5000/#/experiments/2/runs/e991236d03614a9f8954f054f3c8401b\n",
      "🧪 View experiment at: http://experiment-tracking:5000/#/experiments/2\n"
     ]
    },
    {
     "name": "stderr",
     "output_type": "stream",
     "text": [
      "\u001b[31m2025/05/06 12:35:07 WARNING mlflow.models.model: Model logged without a signature and input example. Please set `input_example` parameter when logging the model to auto infer the model signature.\u001b[0m\n"
     ]
    },
    {
     "name": "stdout",
     "output_type": "stream",
     "text": [
      "🏃 View run legendary-crab-351 at: http://experiment-tracking:5000/#/experiments/2/runs/eb558cb070ad47948fb3a31f8eea4cb8\n",
      "🧪 View experiment at: http://experiment-tracking:5000/#/experiments/2\n"
     ]
    },
    {
     "name": "stderr",
     "output_type": "stream",
     "text": [
      "\u001b[31m2025/05/06 12:35:11 WARNING mlflow.models.model: Model logged without a signature and input example. Please set `input_example` parameter when logging the model to auto infer the model signature.\u001b[0m\n"
     ]
    },
    {
     "name": "stdout",
     "output_type": "stream",
     "text": [
      "🏃 View run omniscient-stoat-903 at: http://experiment-tracking:5000/#/experiments/2/runs/c4e1453ff44142c48156c40fd60252fa\n",
      "🧪 View experiment at: http://experiment-tracking:5000/#/experiments/2\n"
     ]
    },
    {
     "name": "stderr",
     "output_type": "stream",
     "text": [
      "\u001b[31m2025/05/06 12:35:15 WARNING mlflow.models.model: Model logged without a signature and input example. Please set `input_example` parameter when logging the model to auto infer the model signature.\u001b[0m\n"
     ]
    },
    {
     "name": "stdout",
     "output_type": "stream",
     "text": [
      "🏃 View run orderly-shoat-163 at: http://experiment-tracking:5000/#/experiments/2/runs/2007d2c6e53c4a51a6eb26b755730ec2\n",
      "🧪 View experiment at: http://experiment-tracking:5000/#/experiments/2\n"
     ]
    },
    {
     "name": "stderr",
     "output_type": "stream",
     "text": [
      "\u001b[31m2025/05/06 12:35:19 WARNING mlflow.models.model: Model logged without a signature and input example. Please set `input_example` parameter when logging the model to auto infer the model signature.\u001b[0m\n",
      "Successfully registered model 'rf-best-model'.\n",
      "2025/05/06 12:35:19 INFO mlflow.store.model_registry.abstract_store: Waiting up to 300 seconds for model version to finish creation. Model name: rf-best-model, version 1\n"
     ]
    },
    {
     "name": "stdout",
     "output_type": "stream",
     "text": [
      "🏃 View run enchanting-perch-947 at: http://experiment-tracking:5000/#/experiments/2/runs/718d7eca7c7749f3b6032911d3ba6323\n",
      "🧪 View experiment at: http://experiment-tracking:5000/#/experiments/2\n"
     ]
    },
    {
     "name": "stderr",
     "output_type": "stream",
     "text": [
      "Created version '1' of model 'rf-best-model'.\n"
     ]
    }
   ],
   "source": [
    "HPO_EXPERIMENT_NAME = \"random-forest-hyperopt\"\n",
    "EXPERIMENT_NAME = \"random-forest-best-models\"\n",
    "RF_PARAMS = ['max_depth', 'n_estimators', 'min_samples_split', 'min_samples_leaf', 'random_state', 'n_jobs']\n",
    "\n",
    "mlflow.set_tracking_uri(\"http://experiment-tracking:5000\")\n",
    "mlflow.set_experiment(EXPERIMENT_NAME)\n",
    "\n",
    "def train_and_log_model(params):\n",
    "    # Load preprocessed training and validation data\n",
    "    X_train, y_train = load_pickle(os.path.join('../models', 'train.pkl'))\n",
    "    X_test, y_test = load_pickle(os.path.join('../models', 'test.pkl'))\n",
    "\n",
    "    with mlflow.start_run():\n",
    "        for param in RF_PARAMS:\n",
    "            params[param] = int(params[param])\n",
    "\n",
    "        # Train the Random Forest Classifier\n",
    "        rf_classifier = RandomForestClassifier(**params)\n",
    "        rf_classifier.fit(X_train, y_train)\n",
    "        y_pred = rf_classifier.predict(X_test)\n",
    "\n",
    "        # Calculate accuracy\n",
    "        accuracy = accuracy_score(y_test, y_pred)\n",
    "        mlflow.log_metric('accuracy', accuracy)\n",
    "\n",
    "        # Log the model\n",
    "        mlflow.sklearn.log_model(rf_classifier, artifact_path=\"model\")\n",
    "\n",
    "\n",
    "def run_register_model(data_path: str, top_n: int):\n",
    "    client = MlflowClient()\n",
    "\n",
    "    # Retrieve the top_n model runs and log the models\n",
    "    experiment = client.get_experiment_by_name(HPO_EXPERIMENT_NAME)\n",
    "    runs = client.search_runs(\n",
    "        experiment_ids=experiment.experiment_id,\n",
    "        run_view_type=ViewType.ACTIVE_ONLY,\n",
    "        max_results=top_n,\n",
    "        order_by=[\"metrics.accuracy DESC\"]\n",
    "    )\n",
    "    for run in runs:\n",
    "        train_and_log_model(params=run.data.params)\n",
    "\n",
    "    # Select the model with the highest test accuracy\n",
    "    experiment = client.get_experiment_by_name(EXPERIMENT_NAME)\n",
    "    best_run = client.search_runs(\n",
    "        experiment_ids=experiment.experiment_id,\n",
    "        run_view_type=ViewType.ACTIVE_ONLY,\n",
    "        max_results=top_n,\n",
    "        order_by=[\"metrics.accuracy DESC\"]\n",
    "    )[0]\n",
    "\n",
    "    # Register the best model\n",
    "    run_id = best_run.info.run_id\n",
    "    model_uri = f\"runs:/{run_id}/model\"\n",
    "    mlflow.register_model(model_uri, name=\"rf-best-model\")\n",
    "\n",
    "\n",
    "run_register_model(\"../models/\", 5)"
   ]
  }
 ],
 "metadata": {
  "kernelspec": {
   "display_name": "Python 3",
   "language": "python",
   "name": "python3"
  },
  "language_info": {
   "codemirror_mode": {
    "name": "ipython",
    "version": 3
   },
   "file_extension": ".py",
   "mimetype": "text/x-python",
   "name": "python",
   "nbconvert_exporter": "python",
   "pygments_lexer": "ipython3",
   "version": "3.12.8"
  }
 },
 "nbformat": 4,
 "nbformat_minor": 5
}
