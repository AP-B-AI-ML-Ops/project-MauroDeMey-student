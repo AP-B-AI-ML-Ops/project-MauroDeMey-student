{
 "cells": [
  {
   "cell_type": "code",
   "execution_count": 1,
   "id": "8abe659c",
   "metadata": {},
   "outputs": [],
   "source": [
    "import pandas as pd  # For data manipulation and analysis\n",
    "import numpy as np  # For numerical computations\n",
    "from sklearn.model_selection import train_test_split  # For splitting the dataset\n",
    "from sklearn.preprocessing import StandardScaler, LabelEncoder  # For scaling and encoding"
   ]
  },
  {
   "cell_type": "code",
   "execution_count": 4,
   "id": "c2f3d564",
   "metadata": {},
   "outputs": [
    {
     "name": "stdout",
     "output_type": "stream",
     "text": [
      "      id  gender   age  hypertension  heart_disease ever_married  \\\n",
      "0   9046    Male  67.0             0              1          Yes   \n",
      "1  51676  Female  61.0             0              0          Yes   \n",
      "2  31112    Male  80.0             0              1          Yes   \n",
      "3  60182  Female  49.0             0              0          Yes   \n",
      "4   1665  Female  79.0             1              0          Yes   \n",
      "\n",
      "       work_type Residence_type  avg_glucose_level   bmi   smoking_status  \\\n",
      "0        Private          Urban             228.69  36.6  formerly smoked   \n",
      "1  Self-employed          Rural             202.21   NaN     never smoked   \n",
      "2        Private          Rural             105.92  32.5     never smoked   \n",
      "3        Private          Urban             171.23  34.4           smokes   \n",
      "4  Self-employed          Rural             174.12  24.0     never smoked   \n",
      "\n",
      "   stroke  \n",
      "0       1  \n",
      "1       1  \n",
      "2       1  \n",
      "3       1  \n",
      "4       1  \n",
      "   gender       age  hypertension  heart_disease  ever_married  work_type  \\\n",
      "0       1  1.070138             0              1             1          2   \n",
      "2       1  1.646563             0              1             1          2   \n",
      "3       0  0.272012             0              0             1          2   \n",
      "4       0  1.602222             1              0             1          3   \n",
      "5       1  1.690903             0              0             1          2   \n",
      "\n",
      "   Residence_type  avg_glucose_level       bmi  smoking_status  stroke  \n",
      "0               1           2.777698  0.981345               1       1  \n",
      "2               0           0.013842  0.459269               2       1  \n",
      "3               1           1.484132  0.701207               3       1  \n",
      "4               0           1.549193 -0.623083               2       1  \n",
      "5               1           1.821368  0.013595               1       1  \n"
     ]
    }
   ],
   "source": [
    "# Load the dataset\n",
    "stroke_data = pd.read_csv('./data/healthcare-dataset-stroke-data.csv')\n",
    "\n",
    "# Display the first few rows of the dataset\n",
    "print(stroke_data.head())\n",
    "\n",
    "# Drop rows with missing values\n",
    "stroke_data.dropna(inplace=True)\n",
    "\n",
    "# Drop unnecessary columns\n",
    "stroke_data.drop(columns=['id'], inplace=True)\n",
    "\n",
    "# Encoding categorical features\n",
    "categorical_columns = ['gender', 'ever_married', 'work_type', 'Residence_type', 'smoking_status']\n",
    "label_encoder = LabelEncoder()\n",
    "for col in categorical_columns:\n",
    "    stroke_data[col] = label_encoder.fit_transform(stroke_data[col])\n",
    "\n",
    "# Handling missing values (e.g., 'bmi' column)\n",
    "stroke_data['bmi'] = stroke_data['bmi'].fillna(stroke_data['bmi'].mean())\n",
    "\n",
    "# Scaling numerical features\n",
    "numerical_columns = ['age', 'avg_glucose_level', 'bmi']\n",
    "scaler = StandardScaler()\n",
    "stroke_data[numerical_columns] = scaler.fit_transform(stroke_data[numerical_columns])\n",
    "\n",
    "print(stroke_data.head())"
   ]
  },
  {
   "cell_type": "code",
   "execution_count": 5,
   "id": "3f0e90e1",
   "metadata": {},
   "outputs": [
    {
     "name": "stdout",
     "output_type": "stream",
     "text": [
      "Training set shape: (3927, 10), (3927,)\n",
      "Testing set shape: (982, 10), (982,)\n"
     ]
    }
   ],
   "source": [
    "# Splitting the dataset into features and target variable\n",
    "X = stroke_data.drop(columns=['stroke'])    # Features\n",
    "y = stroke_data['stroke']                  # Target variable\n",
    "# Splitting the dataset into training and testing sets\n",
    "X_train, X_test, y_train, y_test = train_test_split(X, y, test_size=0.2, random_state=42)\n",
    "# Display the shapes of the training and testing sets\n",
    "print(f\"Training set shape: {X_train.shape}, {y_train.shape}\")\n",
    "print(f\"Testing set shape: {X_test.shape}, {y_test.shape}\")"
   ]
  },
  {
   "cell_type": "markdown",
   "id": "6db97137",
   "metadata": {},
   "source": [
    "Train"
   ]
  },
  {
   "cell_type": "code",
   "execution_count": 6,
   "id": "30ecb9a3",
   "metadata": {},
   "outputs": [
    {
     "name": "stdout",
     "output_type": "stream",
     "text": [
      "Accuracy of the Random Forest model: 0.95\n"
     ]
    }
   ],
   "source": [
    "from sklearn.ensemble import RandomForestClassifier\n",
    "from sklearn.metrics import accuracy_score\n",
    "\n",
    "# Initialize the Random Forest Classifier\n",
    "rf_classifier = RandomForestClassifier(random_state=42)\n",
    "\n",
    "# Train the model\n",
    "rf_classifier.fit(X_train, y_train)\n",
    "\n",
    "# Make predictions on the test set\n",
    "y_pred = rf_classifier.predict(X_test)\n",
    "\n",
    "# Evaluate the model\n",
    "accuracy = accuracy_score(y_test, y_pred)\n",
    "print(f\"Accuracy of the Random Forest model: {accuracy:.2f}\")"
   ]
  },
  {
   "cell_type": "markdown",
   "id": "7ed61e00",
   "metadata": {},
   "source": [
    "HPO"
   ]
  },
  {
   "cell_type": "code",
   "execution_count": 8,
   "id": "67dae110",
   "metadata": {},
   "outputs": [
    {
     "name": "stderr",
     "output_type": "stream",
     "text": [
      "[I 2025-05-06 10:00:27,088] A new study created in memory with name: no-name-e0b0d011-8bc6-403c-a4ce-c887c15fc66b\n",
      "[I 2025-05-06 10:00:27,405] Trial 0 finished with value: 0.9602750190985484 and parameters: {'n_estimators': 10, 'max_depth': 5, 'min_samples_split': 17, 'min_samples_leaf': 12}. Best is trial 0 with value: 0.9602750190985484.\n",
      "[I 2025-05-06 10:00:28,272] Trial 1 finished with value: 0.9602750190985484 and parameters: {'n_estimators': 59, 'max_depth': 3, 'min_samples_split': 5, 'min_samples_leaf': 16}. Best is trial 0 with value: 0.9602750190985484.\n",
      "[I 2025-05-06 10:00:31,852] Trial 2 finished with value: 0.9602750190985484 and parameters: {'n_estimators': 166, 'max_depth': 11, 'min_samples_split': 16, 'min_samples_leaf': 2}. Best is trial 0 with value: 0.9602750190985484.\n",
      "[I 2025-05-06 10:00:35,446] Trial 3 finished with value: 0.9602750190985484 and parameters: {'n_estimators': 199, 'max_depth': 7, 'min_samples_split': 11, 'min_samples_leaf': 13}. Best is trial 0 with value: 0.9602750190985484.\n",
      "[I 2025-05-06 10:00:39,358] Trial 4 finished with value: 0.9600203717850776 and parameters: {'n_estimators': 178, 'max_depth': 15, 'min_samples_split': 11, 'min_samples_leaf': 1}. Best is trial 0 with value: 0.9602750190985484.\n",
      "[I 2025-05-06 10:00:40,271] Trial 5 finished with value: 0.9600203717850776 and parameters: {'n_estimators': 41, 'max_depth': 11, 'min_samples_split': 15, 'min_samples_leaf': 2}. Best is trial 0 with value: 0.9602750190985484.\n",
      "[I 2025-05-06 10:00:42,004] Trial 6 finished with value: 0.9602750190985484 and parameters: {'n_estimators': 105, 'max_depth': 4, 'min_samples_split': 9, 'min_samples_leaf': 8}. Best is trial 0 with value: 0.9602750190985484.\n",
      "[I 2025-05-06 10:00:43,983] Trial 7 finished with value: 0.9602750190985484 and parameters: {'n_estimators': 96, 'max_depth': 19, 'min_samples_split': 3, 'min_samples_leaf': 17}. Best is trial 0 with value: 0.9602750190985484.\n",
      "[I 2025-05-06 10:00:45,789] Trial 8 finished with value: 0.9602750190985484 and parameters: {'n_estimators': 120, 'max_depth': 3, 'min_samples_split': 20, 'min_samples_leaf': 18}. Best is trial 0 with value: 0.9602750190985484.\n",
      "[I 2025-05-06 10:00:48,643] Trial 9 finished with value: 0.9602750190985484 and parameters: {'n_estimators': 147, 'max_depth': 12, 'min_samples_split': 16, 'min_samples_leaf': 5}. Best is trial 0 with value: 0.9602750190985484.\n"
     ]
    },
    {
     "name": "stdout",
     "output_type": "stream",
     "text": [
      "Best hyperparameters: {'n_estimators': 10, 'max_depth': 5, 'min_samples_split': 17, 'min_samples_leaf': 12}\n",
      "Best accuracy: 0.9602750190985484\n"
     ]
    }
   ],
   "source": [
    "import optuna\n",
    "from sklearn.model_selection import cross_val_score\n",
    "\n",
    "def objective(trial):\n",
    "    # Define the hyperparameters to tune\n",
    "    n_estimators = trial.suggest_int('n_estimators', 10, 200)\n",
    "    max_depth = trial.suggest_int('max_depth', 2, 32, log=True)\n",
    "    min_samples_split = trial.suggest_int('min_samples_split', 2, 20)\n",
    "    min_samples_leaf = trial.suggest_int('min_samples_leaf', 1, 20)\n",
    "    \n",
    "    # Create the model with the suggested hyperparameters\n",
    "    rf = RandomForestClassifier(\n",
    "        n_estimators=n_estimators,\n",
    "        max_depth=max_depth,\n",
    "        min_samples_split=min_samples_split,\n",
    "        min_samples_leaf=min_samples_leaf,\n",
    "        random_state=42\n",
    "    )\n",
    "    \n",
    "    # Perform cross-validation and return the mean accuracy\n",
    "    score = cross_val_score(rf, X_train, y_train, cv=3, scoring='accuracy').mean()\n",
    "    return score\n",
    "\n",
    "# Create a study and optimize the objective function\n",
    "study = optuna.create_study(direction='maximize')\n",
    "study.optimize(objective, n_trials=10)\n",
    "\n",
    "# Print the best hyperparameters and score\n",
    "print(\"Best hyperparameters:\", study.best_params)\n",
    "print(\"Best accuracy:\", study.best_value)"
   ]
  }
 ],
 "metadata": {
  "kernelspec": {
   "display_name": "Python 3",
   "language": "python",
   "name": "python3"
  },
  "language_info": {
   "codemirror_mode": {
    "name": "ipython",
    "version": 3
   },
   "file_extension": ".py",
   "mimetype": "text/x-python",
   "name": "python",
   "nbconvert_exporter": "python",
   "pygments_lexer": "ipython3",
   "version": "3.12.8"
  }
 },
 "nbformat": 4,
 "nbformat_minor": 5
}
